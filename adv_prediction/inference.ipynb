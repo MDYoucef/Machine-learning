{
 "cells": [
  {
   "cell_type": "code",
   "execution_count": 1,
   "metadata": {},
   "outputs": [],
   "source": [
    "import pandas as pd\n",
    "from sklearn.ensemble import RandomForestClassifier\n",
    "import pickle\n",
    "import numpy as np\n",
    "import matplotlib.pyplot as plt\n",
    "import collections\n",
    "%matplotlib inline"
   ]
  },
  {
   "cell_type": "code",
   "execution_count": 2,
   "metadata": {},
   "outputs": [
    {
     "data": {
      "text/html": [
       "<div>\n",
       "<style scoped>\n",
       "    .dataframe tbody tr th:only-of-type {\n",
       "        vertical-align: middle;\n",
       "    }\n",
       "\n",
       "    .dataframe tbody tr th {\n",
       "        vertical-align: top;\n",
       "    }\n",
       "\n",
       "    .dataframe thead th {\n",
       "        text-align: right;\n",
       "    }\n",
       "</style>\n",
       "<table border=\"1\" class=\"dataframe\">\n",
       "  <thead>\n",
       "    <tr style=\"text-align: right;\">\n",
       "      <th></th>\n",
       "      <th>timestamp</th>\n",
       "      <th>device_id</th>\n",
       "      <th>user_id</th>\n",
       "      <th>won_price</th>\n",
       "    </tr>\n",
       "  </thead>\n",
       "  <tbody>\n",
       "    <tr>\n",
       "      <th>0</th>\n",
       "      <td>1430264861</td>\n",
       "      <td>57357</td>\n",
       "      <td>399743</td>\n",
       "      <td>184000000</td>\n",
       "    </tr>\n",
       "    <tr>\n",
       "      <th>1</th>\n",
       "      <td>1430264862</td>\n",
       "      <td>255449</td>\n",
       "      <td>361123</td>\n",
       "      <td>198000000</td>\n",
       "    </tr>\n",
       "    <tr>\n",
       "      <th>2</th>\n",
       "      <td>1430264862</td>\n",
       "      <td>187710</td>\n",
       "      <td>72636</td>\n",
       "      <td>197000000</td>\n",
       "    </tr>\n",
       "    <tr>\n",
       "      <th>3</th>\n",
       "      <td>1430264862</td>\n",
       "      <td>231712</td>\n",
       "      <td>238101</td>\n",
       "      <td>208000000</td>\n",
       "    </tr>\n",
       "    <tr>\n",
       "      <th>4</th>\n",
       "      <td>1430264862</td>\n",
       "      <td>361026</td>\n",
       "      <td>285994</td>\n",
       "      <td>107000000</td>\n",
       "    </tr>\n",
       "  </tbody>\n",
       "</table>\n",
       "</div>"
      ],
      "text/plain": [
       "    timestamp  device_id  user_id  won_price\n",
       "0  1430264861      57357   399743  184000000\n",
       "1  1430264862     255449   361123  198000000\n",
       "2  1430264862     187710    72636  197000000\n",
       "3  1430264862     231712   238101  208000000\n",
       "4  1430264862     361026   285994  107000000"
      ]
     },
     "execution_count": 2,
     "metadata": {},
     "output_type": "execute_result"
    }
   ],
   "source": [
    "test_x = pd.read_pickle('new_test.pkl')\n",
    "test_x.head()"
   ]
  },
  {
   "cell_type": "code",
   "execution_count": 3,
   "metadata": {},
   "outputs": [
    {
     "name": "stdout",
     "output_type": "stream",
     "text": [
      "(508158, 4)\n"
     ]
    },
    {
     "data": {
      "text/plain": [
       "timestamp    109957\n",
       "device_id    215059\n",
       "user_id      214824\n",
       "won_price       380\n",
       "dtype: int64"
      ]
     },
     "execution_count": 3,
     "metadata": {},
     "output_type": "execute_result"
    }
   ],
   "source": [
    "print(test_x.shape)\n",
    "test_x.nunique()"
   ]
  },
  {
   "cell_type": "code",
   "execution_count": 4,
   "metadata": {},
   "outputs": [],
   "source": [
    "clf = pickle.load(open('final_model.sav', 'rb')) #load the model"
   ]
  },
  {
   "cell_type": "code",
   "execution_count": 10,
   "metadata": {},
   "outputs": [
    {
     "data": {
      "text/plain": [
       "array([0, 0, 0, ..., 0, 0, 0])"
      ]
     },
     "execution_count": 10,
     "metadata": {},
     "output_type": "execute_result"
    }
   ],
   "source": [
    "clf.predict(test_x) #class prediction for test data"
   ]
  },
  {
   "cell_type": "code",
   "execution_count": 6,
   "metadata": {},
   "outputs": [
    {
     "name": "stdout",
     "output_type": "stream",
     "text": [
      "[0.14437846 0.02654964 0.24911441 ... 0.17949627 0.31104518 0.25200475]\n"
     ]
    }
   ],
   "source": [
    "probability = clf.predict_proba(test_x)[:,1] #save the probability for clicked is True\n",
    "print(probability)"
   ]
  },
  {
   "cell_type": "code",
   "execution_count": 7,
   "metadata": {},
   "outputs": [
    {
     "data": {
      "text/html": [
       "<div>\n",
       "<style scoped>\n",
       "    .dataframe tbody tr th:only-of-type {\n",
       "        vertical-align: middle;\n",
       "    }\n",
       "\n",
       "    .dataframe tbody tr th {\n",
       "        vertical-align: top;\n",
       "    }\n",
       "\n",
       "    .dataframe thead th {\n",
       "        text-align: right;\n",
       "    }\n",
       "</style>\n",
       "<table border=\"1\" class=\"dataframe\">\n",
       "  <thead>\n",
       "    <tr style=\"text-align: right;\">\n",
       "      <th></th>\n",
       "      <th>timestamp</th>\n",
       "      <th>device_id</th>\n",
       "      <th>user_id</th>\n",
       "      <th>won_price</th>\n",
       "    </tr>\n",
       "  </thead>\n",
       "  <tbody>\n",
       "    <tr>\n",
       "      <th>0</th>\n",
       "      <td>1430264861</td>\n",
       "      <td>57357</td>\n",
       "      <td>399743</td>\n",
       "      <td>184000000</td>\n",
       "    </tr>\n",
       "    <tr>\n",
       "      <th>1</th>\n",
       "      <td>1430264862</td>\n",
       "      <td>255449</td>\n",
       "      <td>361123</td>\n",
       "      <td>198000000</td>\n",
       "    </tr>\n",
       "    <tr>\n",
       "      <th>2</th>\n",
       "      <td>1430264862</td>\n",
       "      <td>187710</td>\n",
       "      <td>72636</td>\n",
       "      <td>197000000</td>\n",
       "    </tr>\n",
       "    <tr>\n",
       "      <th>3</th>\n",
       "      <td>1430264862</td>\n",
       "      <td>231712</td>\n",
       "      <td>238101</td>\n",
       "      <td>208000000</td>\n",
       "    </tr>\n",
       "    <tr>\n",
       "      <th>4</th>\n",
       "      <td>1430264862</td>\n",
       "      <td>361026</td>\n",
       "      <td>285994</td>\n",
       "      <td>107000000</td>\n",
       "    </tr>\n",
       "    <tr>\n",
       "      <th>5</th>\n",
       "      <td>1430264863</td>\n",
       "      <td>208086</td>\n",
       "      <td>307941</td>\n",
       "      <td>-100000</td>\n",
       "    </tr>\n",
       "    <tr>\n",
       "      <th>6</th>\n",
       "      <td>1430264863</td>\n",
       "      <td>51840</td>\n",
       "      <td>16200</td>\n",
       "      <td>84000000</td>\n",
       "    </tr>\n",
       "    <tr>\n",
       "      <th>7</th>\n",
       "      <td>1430264863</td>\n",
       "      <td>160610</td>\n",
       "      <td>30227</td>\n",
       "      <td>172000000</td>\n",
       "    </tr>\n",
       "    <tr>\n",
       "      <th>8</th>\n",
       "      <td>1430264863</td>\n",
       "      <td>203246</td>\n",
       "      <td>195488</td>\n",
       "      <td>191000000</td>\n",
       "    </tr>\n",
       "    <tr>\n",
       "      <th>9</th>\n",
       "      <td>1430264863</td>\n",
       "      <td>239412</td>\n",
       "      <td>256995</td>\n",
       "      <td>197000000</td>\n",
       "    </tr>\n",
       "    <tr>\n",
       "      <th>10</th>\n",
       "      <td>1430264863</td>\n",
       "      <td>285131</td>\n",
       "      <td>361043</td>\n",
       "      <td>208000000</td>\n",
       "    </tr>\n",
       "    <tr>\n",
       "      <th>11</th>\n",
       "      <td>1430264864</td>\n",
       "      <td>100244</td>\n",
       "      <td>3634</td>\n",
       "      <td>37000000</td>\n",
       "    </tr>\n",
       "    <tr>\n",
       "      <th>12</th>\n",
       "      <td>1430264864</td>\n",
       "      <td>140034</td>\n",
       "      <td>161799</td>\n",
       "      <td>198000000</td>\n",
       "    </tr>\n",
       "    <tr>\n",
       "      <th>13</th>\n",
       "      <td>1430264864</td>\n",
       "      <td>237455</td>\n",
       "      <td>25448</td>\n",
       "      <td>130000000</td>\n",
       "    </tr>\n",
       "    <tr>\n",
       "      <th>14</th>\n",
       "      <td>1430264864</td>\n",
       "      <td>134362</td>\n",
       "      <td>440423</td>\n",
       "      <td>198000000</td>\n",
       "    </tr>\n",
       "  </tbody>\n",
       "</table>\n",
       "</div>"
      ],
      "text/plain": [
       "     timestamp  device_id  user_id  won_price\n",
       "0   1430264861      57357   399743  184000000\n",
       "1   1430264862     255449   361123  198000000\n",
       "2   1430264862     187710    72636  197000000\n",
       "3   1430264862     231712   238101  208000000\n",
       "4   1430264862     361026   285994  107000000\n",
       "5   1430264863     208086   307941    -100000\n",
       "6   1430264863      51840    16200   84000000\n",
       "7   1430264863     160610    30227  172000000\n",
       "8   1430264863     203246   195488  191000000\n",
       "9   1430264863     239412   256995  197000000\n",
       "10  1430264863     285131   361043  208000000\n",
       "11  1430264864     100244     3634   37000000\n",
       "12  1430264864     140034   161799  198000000\n",
       "13  1430264864     237455    25448  130000000\n",
       "14  1430264864     134362   440423  198000000"
      ]
     },
     "execution_count": 7,
     "metadata": {},
     "output_type": "execute_result"
    }
   ],
   "source": [
    "test_y = pd.DataFrame(probability,columns=[\"clicked\"]) #save the probability into dataframe\n",
    "test_x.iloc[0:15, :]"
   ]
  },
  {
   "cell_type": "code",
   "execution_count": 8,
   "metadata": {},
   "outputs": [],
   "source": [
    "results = test_x.join(test_y) # join the data with predictions"
   ]
  },
  {
   "cell_type": "code",
   "execution_count": 9,
   "metadata": {},
   "outputs": [],
   "source": [
    "results.to_pickle('results.pkl') #save the results"
   ]
  },
  {
   "cell_type": "code",
   "execution_count": 10,
   "metadata": {},
   "outputs": [
    {
     "data": {
      "text/html": [
       "<div>\n",
       "<style scoped>\n",
       "    .dataframe tbody tr th:only-of-type {\n",
       "        vertical-align: middle;\n",
       "    }\n",
       "\n",
       "    .dataframe tbody tr th {\n",
       "        vertical-align: top;\n",
       "    }\n",
       "\n",
       "    .dataframe thead th {\n",
       "        text-align: right;\n",
       "    }\n",
       "</style>\n",
       "<table border=\"1\" class=\"dataframe\">\n",
       "  <thead>\n",
       "    <tr style=\"text-align: right;\">\n",
       "      <th></th>\n",
       "      <th>timestamp</th>\n",
       "      <th>device_id</th>\n",
       "      <th>user_id</th>\n",
       "      <th>won_price</th>\n",
       "      <th>clicked</th>\n",
       "    </tr>\n",
       "  </thead>\n",
       "  <tbody>\n",
       "    <tr>\n",
       "      <th>0</th>\n",
       "      <td>1430264861</td>\n",
       "      <td>57357</td>\n",
       "      <td>399743</td>\n",
       "      <td>184000000</td>\n",
       "      <td>0.144378</td>\n",
       "    </tr>\n",
       "    <tr>\n",
       "      <th>1</th>\n",
       "      <td>1430264862</td>\n",
       "      <td>255449</td>\n",
       "      <td>361123</td>\n",
       "      <td>198000000</td>\n",
       "      <td>0.026550</td>\n",
       "    </tr>\n",
       "    <tr>\n",
       "      <th>2</th>\n",
       "      <td>1430264862</td>\n",
       "      <td>187710</td>\n",
       "      <td>72636</td>\n",
       "      <td>197000000</td>\n",
       "      <td>0.249114</td>\n",
       "    </tr>\n",
       "    <tr>\n",
       "      <th>3</th>\n",
       "      <td>1430264862</td>\n",
       "      <td>231712</td>\n",
       "      <td>238101</td>\n",
       "      <td>208000000</td>\n",
       "      <td>0.163310</td>\n",
       "    </tr>\n",
       "    <tr>\n",
       "      <th>4</th>\n",
       "      <td>1430264862</td>\n",
       "      <td>361026</td>\n",
       "      <td>285994</td>\n",
       "      <td>107000000</td>\n",
       "      <td>0.000000</td>\n",
       "    </tr>\n",
       "    <tr>\n",
       "      <th>5</th>\n",
       "      <td>1430264863</td>\n",
       "      <td>208086</td>\n",
       "      <td>307941</td>\n",
       "      <td>-100000</td>\n",
       "      <td>1.000000</td>\n",
       "    </tr>\n",
       "    <tr>\n",
       "      <th>6</th>\n",
       "      <td>1430264863</td>\n",
       "      <td>51840</td>\n",
       "      <td>16200</td>\n",
       "      <td>84000000</td>\n",
       "      <td>0.141893</td>\n",
       "    </tr>\n",
       "    <tr>\n",
       "      <th>7</th>\n",
       "      <td>1430264863</td>\n",
       "      <td>160610</td>\n",
       "      <td>30227</td>\n",
       "      <td>172000000</td>\n",
       "      <td>0.310378</td>\n",
       "    </tr>\n",
       "    <tr>\n",
       "      <th>8</th>\n",
       "      <td>1430264863</td>\n",
       "      <td>203246</td>\n",
       "      <td>195488</td>\n",
       "      <td>191000000</td>\n",
       "      <td>0.424507</td>\n",
       "    </tr>\n",
       "    <tr>\n",
       "      <th>9</th>\n",
       "      <td>1430264863</td>\n",
       "      <td>239412</td>\n",
       "      <td>256995</td>\n",
       "      <td>197000000</td>\n",
       "      <td>0.066222</td>\n",
       "    </tr>\n",
       "    <tr>\n",
       "      <th>10</th>\n",
       "      <td>1430264863</td>\n",
       "      <td>285131</td>\n",
       "      <td>361043</td>\n",
       "      <td>208000000</td>\n",
       "      <td>0.010498</td>\n",
       "    </tr>\n",
       "    <tr>\n",
       "      <th>11</th>\n",
       "      <td>1430264864</td>\n",
       "      <td>100244</td>\n",
       "      <td>3634</td>\n",
       "      <td>37000000</td>\n",
       "      <td>0.175343</td>\n",
       "    </tr>\n",
       "    <tr>\n",
       "      <th>12</th>\n",
       "      <td>1430264864</td>\n",
       "      <td>140034</td>\n",
       "      <td>161799</td>\n",
       "      <td>198000000</td>\n",
       "      <td>0.084012</td>\n",
       "    </tr>\n",
       "    <tr>\n",
       "      <th>13</th>\n",
       "      <td>1430264864</td>\n",
       "      <td>237455</td>\n",
       "      <td>25448</td>\n",
       "      <td>130000000</td>\n",
       "      <td>0.303901</td>\n",
       "    </tr>\n",
       "    <tr>\n",
       "      <th>14</th>\n",
       "      <td>1430264864</td>\n",
       "      <td>134362</td>\n",
       "      <td>440423</td>\n",
       "      <td>198000000</td>\n",
       "      <td>0.116689</td>\n",
       "    </tr>\n",
       "  </tbody>\n",
       "</table>\n",
       "</div>"
      ],
      "text/plain": [
       "     timestamp  device_id  user_id  won_price   clicked\n",
       "0   1430264861      57357   399743  184000000  0.144378\n",
       "1   1430264862     255449   361123  198000000  0.026550\n",
       "2   1430264862     187710    72636  197000000  0.249114\n",
       "3   1430264862     231712   238101  208000000  0.163310\n",
       "4   1430264862     361026   285994  107000000  0.000000\n",
       "5   1430264863     208086   307941    -100000  1.000000\n",
       "6   1430264863      51840    16200   84000000  0.141893\n",
       "7   1430264863     160610    30227  172000000  0.310378\n",
       "8   1430264863     203246   195488  191000000  0.424507\n",
       "9   1430264863     239412   256995  197000000  0.066222\n",
       "10  1430264863     285131   361043  208000000  0.010498\n",
       "11  1430264864     100244     3634   37000000  0.175343\n",
       "12  1430264864     140034   161799  198000000  0.084012\n",
       "13  1430264864     237455    25448  130000000  0.303901\n",
       "14  1430264864     134362   440423  198000000  0.116689"
      ]
     },
     "execution_count": 10,
     "metadata": {},
     "output_type": "execute_result"
    }
   ],
   "source": [
    "results = pd.read_pickle(\"results.pkl\")\n",
    "results.iloc[0:15, :]"
   ]
  },
  {
   "cell_type": "code",
   "execution_count": 11,
   "metadata": {},
   "outputs": [
    {
     "data": {
      "text/plain": [
       "False    480334\n",
       "True      27824\n",
       "Name: clicked, dtype: int64"
      ]
     },
     "execution_count": 11,
     "metadata": {},
     "output_type": "execute_result"
    }
   ],
   "source": [
    "t = (results['clicked'] > 0.5)\n",
    "t.value_counts()"
   ]
  },
  {
   "cell_type": "code",
   "execution_count": null,
   "metadata": {},
   "outputs": [],
   "source": []
  }
 ],
 "metadata": {
  "kernelspec": {
   "display_name": "Python 3",
   "language": "python",
   "name": "python3"
  },
  "language_info": {
   "codemirror_mode": {
    "name": "ipython",
    "version": 3
   },
   "file_extension": ".py",
   "mimetype": "text/x-python",
   "name": "python",
   "nbconvert_exporter": "python",
   "pygments_lexer": "ipython3",
   "version": "3.5.2"
  }
 },
 "nbformat": 4,
 "nbformat_minor": 2
}
