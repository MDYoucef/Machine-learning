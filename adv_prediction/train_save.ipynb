{
 "cells": [
  {
   "cell_type": "code",
   "execution_count": 1,
   "metadata": {},
   "outputs": [],
   "source": [
    "import pandas as pd\n",
    "from sklearn.ensemble import RandomForestClassifier\n",
    "from sklearn.metrics import confusion_matrix\n",
    "from sklearn.model_selection import train_test_split\n",
    "from sklearn.model_selection import cross_val_score\n",
    "from sklearn.metrics import roc_auc_score\n",
    "import numpy as np\n",
    "import matplotlib.pyplot as plt\n",
    "import pickle\n",
    "from IPython.display import display\n",
    "%matplotlib inline"
   ]
  },
  {
   "cell_type": "code",
   "execution_count": 2,
   "metadata": {},
   "outputs": [
    {
     "data": {
      "text/html": [
       "<div>\n",
       "<style scoped>\n",
       "    .dataframe tbody tr th:only-of-type {\n",
       "        vertical-align: middle;\n",
       "    }\n",
       "\n",
       "    .dataframe tbody tr th {\n",
       "        vertical-align: top;\n",
       "    }\n",
       "\n",
       "    .dataframe thead th {\n",
       "        text-align: right;\n",
       "    }\n",
       "</style>\n",
       "<table border=\"1\" class=\"dataframe\">\n",
       "  <thead>\n",
       "    <tr style=\"text-align: right;\">\n",
       "      <th></th>\n",
       "      <th>timestamp</th>\n",
       "      <th>device_id</th>\n",
       "      <th>user_id</th>\n",
       "      <th>won_price</th>\n",
       "      <th>clicked</th>\n",
       "    </tr>\n",
       "  </thead>\n",
       "  <tbody>\n",
       "    <tr>\n",
       "      <th>0</th>\n",
       "      <td>1430252301</td>\n",
       "      <td>452439</td>\n",
       "      <td>316644</td>\n",
       "      <td>89000000</td>\n",
       "      <td>0</td>\n",
       "    </tr>\n",
       "    <tr>\n",
       "      <th>1</th>\n",
       "      <td>1430174639</td>\n",
       "      <td>94548</td>\n",
       "      <td>18299</td>\n",
       "      <td>173000000</td>\n",
       "      <td>0</td>\n",
       "    </tr>\n",
       "    <tr>\n",
       "      <th>2</th>\n",
       "      <td>1430253256</td>\n",
       "      <td>234183</td>\n",
       "      <td>167948</td>\n",
       "      <td>91000000</td>\n",
       "      <td>0</td>\n",
       "    </tr>\n",
       "    <tr>\n",
       "      <th>3</th>\n",
       "      <td>1430196621</td>\n",
       "      <td>240271</td>\n",
       "      <td>233483</td>\n",
       "      <td>128000000</td>\n",
       "      <td>0</td>\n",
       "    </tr>\n",
       "    <tr>\n",
       "      <th>4</th>\n",
       "      <td>1430214959</td>\n",
       "      <td>62190</td>\n",
       "      <td>105502</td>\n",
       "      <td>154000000</td>\n",
       "      <td>0</td>\n",
       "    </tr>\n",
       "    <tr>\n",
       "      <th>5</th>\n",
       "      <td>1430251111</td>\n",
       "      <td>255660</td>\n",
       "      <td>255364</td>\n",
       "      <td>28000000</td>\n",
       "      <td>1</td>\n",
       "    </tr>\n",
       "    <tr>\n",
       "      <th>6</th>\n",
       "      <td>1430208827</td>\n",
       "      <td>411813</td>\n",
       "      <td>281945</td>\n",
       "      <td>240000000</td>\n",
       "      <td>1</td>\n",
       "    </tr>\n",
       "    <tr>\n",
       "      <th>7</th>\n",
       "      <td>1430169254</td>\n",
       "      <td>255493</td>\n",
       "      <td>448034</td>\n",
       "      <td>188000000</td>\n",
       "      <td>0</td>\n",
       "    </tr>\n",
       "    <tr>\n",
       "      <th>8</th>\n",
       "      <td>1430223121</td>\n",
       "      <td>359788</td>\n",
       "      <td>17832</td>\n",
       "      <td>260000000</td>\n",
       "      <td>1</td>\n",
       "    </tr>\n",
       "    <tr>\n",
       "      <th>9</th>\n",
       "      <td>1430223138</td>\n",
       "      <td>251517</td>\n",
       "      <td>118937</td>\n",
       "      <td>116000000</td>\n",
       "      <td>0</td>\n",
       "    </tr>\n",
       "    <tr>\n",
       "      <th>10</th>\n",
       "      <td>1430226611</td>\n",
       "      <td>276704</td>\n",
       "      <td>308276</td>\n",
       "      <td>160000000</td>\n",
       "      <td>1</td>\n",
       "    </tr>\n",
       "    <tr>\n",
       "      <th>11</th>\n",
       "      <td>1430233010</td>\n",
       "      <td>72494</td>\n",
       "      <td>294640</td>\n",
       "      <td>243000000</td>\n",
       "      <td>0</td>\n",
       "    </tr>\n",
       "    <tr>\n",
       "      <th>12</th>\n",
       "      <td>1430234977</td>\n",
       "      <td>98614</td>\n",
       "      <td>330212</td>\n",
       "      <td>254000000</td>\n",
       "      <td>0</td>\n",
       "    </tr>\n",
       "    <tr>\n",
       "      <th>13</th>\n",
       "      <td>1430164999</td>\n",
       "      <td>359734</td>\n",
       "      <td>404796</td>\n",
       "      <td>165000000</td>\n",
       "      <td>0</td>\n",
       "    </tr>\n",
       "    <tr>\n",
       "      <th>14</th>\n",
       "      <td>1430236926</td>\n",
       "      <td>399002</td>\n",
       "      <td>441221</td>\n",
       "      <td>115000000</td>\n",
       "      <td>0</td>\n",
       "    </tr>\n",
       "  </tbody>\n",
       "</table>\n",
       "</div>"
      ],
      "text/plain": [
       "     timestamp  device_id  user_id  won_price  clicked\n",
       "0   1430252301     452439   316644   89000000        0\n",
       "1   1430174639      94548    18299  173000000        0\n",
       "2   1430253256     234183   167948   91000000        0\n",
       "3   1430196621     240271   233483  128000000        0\n",
       "4   1430214959      62190   105502  154000000        0\n",
       "5   1430251111     255660   255364   28000000        1\n",
       "6   1430208827     411813   281945  240000000        1\n",
       "7   1430169254     255493   448034  188000000        0\n",
       "8   1430223121     359788    17832  260000000        1\n",
       "9   1430223138     251517   118937  116000000        0\n",
       "10  1430226611     276704   308276  160000000        1\n",
       "11  1430233010      72494   294640  243000000        0\n",
       "12  1430234977      98614   330212  254000000        0\n",
       "13  1430164999     359734   404796  165000000        0\n",
       "14  1430236926     399002   441221  115000000        0"
      ]
     },
     "execution_count": 2,
     "metadata": {},
     "output_type": "execute_result"
    }
   ],
   "source": [
    "train = pd.read_pickle('new_train.pkl')\n",
    "train.iloc[0:15, :]"
   ]
  },
  {
   "cell_type": "code",
   "execution_count": 3,
   "metadata": {},
   "outputs": [
    {
     "data": {
      "text/plain": [
       "True     724386\n",
       "False    605648\n",
       "Name: clicked, dtype: int64"
      ]
     },
     "execution_count": 3,
     "metadata": {},
     "output_type": "execute_result"
    }
   ],
   "source": [
    "t = (train['clicked'] == 0)\n",
    "t.value_counts()"
   ]
  },
  {
   "cell_type": "code",
   "execution_count": 4,
   "metadata": {},
   "outputs": [
    {
     "data": {
      "text/html": [
       "<div>\n",
       "<style scoped>\n",
       "    .dataframe tbody tr th:only-of-type {\n",
       "        vertical-align: middle;\n",
       "    }\n",
       "\n",
       "    .dataframe tbody tr th {\n",
       "        vertical-align: top;\n",
       "    }\n",
       "\n",
       "    .dataframe thead th {\n",
       "        text-align: right;\n",
       "    }\n",
       "</style>\n",
       "<table border=\"1\" class=\"dataframe\">\n",
       "  <thead>\n",
       "    <tr style=\"text-align: right;\">\n",
       "      <th></th>\n",
       "      <th>timestamp</th>\n",
       "      <th>device_id</th>\n",
       "      <th>user_id</th>\n",
       "      <th>won_price</th>\n",
       "    </tr>\n",
       "  </thead>\n",
       "  <tbody>\n",
       "    <tr>\n",
       "      <th>0</th>\n",
       "      <td>1430252301</td>\n",
       "      <td>452439</td>\n",
       "      <td>316644</td>\n",
       "      <td>89000000</td>\n",
       "    </tr>\n",
       "    <tr>\n",
       "      <th>1</th>\n",
       "      <td>1430174639</td>\n",
       "      <td>94548</td>\n",
       "      <td>18299</td>\n",
       "      <td>173000000</td>\n",
       "    </tr>\n",
       "    <tr>\n",
       "      <th>2</th>\n",
       "      <td>1430253256</td>\n",
       "      <td>234183</td>\n",
       "      <td>167948</td>\n",
       "      <td>91000000</td>\n",
       "    </tr>\n",
       "    <tr>\n",
       "      <th>3</th>\n",
       "      <td>1430196621</td>\n",
       "      <td>240271</td>\n",
       "      <td>233483</td>\n",
       "      <td>128000000</td>\n",
       "    </tr>\n",
       "    <tr>\n",
       "      <th>4</th>\n",
       "      <td>1430214959</td>\n",
       "      <td>62190</td>\n",
       "      <td>105502</td>\n",
       "      <td>154000000</td>\n",
       "    </tr>\n",
       "  </tbody>\n",
       "</table>\n",
       "</div>"
      ],
      "text/plain": [
       "    timestamp  device_id  user_id  won_price\n",
       "0  1430252301     452439   316644   89000000\n",
       "1  1430174639      94548    18299  173000000\n",
       "2  1430253256     234183   167948   91000000\n",
       "3  1430196621     240271   233483  128000000\n",
       "4  1430214959      62190   105502  154000000"
      ]
     },
     "execution_count": 4,
     "metadata": {},
     "output_type": "execute_result"
    }
   ],
   "source": [
    "data = train.iloc[:,0:4]\n",
    "labels = train.iloc[:,4]\n",
    "data.head()"
   ]
  },
  {
   "cell_type": "code",
   "execution_count": 5,
   "metadata": {},
   "outputs": [
    {
     "data": {
      "text/plain": [
       "((798020, 4), (532014, 4), (798020,), (532014,))"
      ]
     },
     "execution_count": 5,
     "metadata": {},
     "output_type": "execute_result"
    }
   ],
   "source": [
    "train_x, valid_x, train_y, valid_y = train_test_split(data, labels, test_size=0.4, random_state=50)\n",
    "train_x.shape, valid_x.shape, train_y.shape, valid_y.shape"
   ]
  },
  {
   "cell_type": "code",
   "execution_count": 5,
   "metadata": {},
   "outputs": [
    {
     "data": {
      "text/plain": [
       "array([0.98417717, 0.98345532, 0.98400042, 0.9839139 , 0.98356428])"
      ]
     },
     "execution_count": 5,
     "metadata": {},
     "output_type": "execute_result"
    }
   ],
   "source": [
    "clf = RandomForestClassifier(n_estimators=101, n_jobs=-1, min_samples_split=30)\n",
    "scores = cross_val_score(clf, data, labels, cv=5)\n",
    "scores"
   ]
  },
  {
   "cell_type": "code",
   "execution_count": 6,
   "metadata": {},
   "outputs": [
    {
     "name": "stdout",
     "output_type": "stream",
     "text": [
      "CPU times: user 4min 43s, sys: 344 ms, total: 4min 43s\n",
      "Wall time: 1min 17s\n"
     ]
    }
   ],
   "source": [
    "clf = RandomForestClassifier(n_estimators=101, n_jobs=-1, min_samples_split=30)\n",
    "%time _ = clf.fit(train_x, train_y) #apprentissage"
   ]
  },
  {
   "cell_type": "code",
   "execution_count": 7,
   "metadata": {},
   "outputs": [
    {
     "name": "stdout",
     "output_type": "stream",
     "text": [
      "[74, 72, 70, 66, 77, 67, 66, 71, 67, 70, 74, 69, 65, 83, 59, 65, 60, 68, 59, 86, 62, 63, 67, 64, 57, 66, 86, 58, 83, 65, 67, 61, 72, 70, 56, 70, 71, 66, 61, 83, 65, 69, 67, 60, 64, 66, 72, 65, 64, 66, 73, 68, 63, 67, 68, 63, 70, 65, 80, 62, 71, 62, 70, 72, 75, 71, 76, 65, 64, 65, 68, 68, 63, 83, 59, 76, 68, 68, 65, 63, 67, 80, 71, 62, 70, 63, 63, 73, 70, 73, 71, 79, 73, 67, 68, 68, 65, 65, 76, 61, 86]\n"
     ]
    }
   ],
   "source": [
    "print([estimator.tree_.max_depth for estimator in clf.estimators_]) #display the depth of each tree"
   ]
  },
  {
   "cell_type": "code",
   "execution_count": 8,
   "metadata": {},
   "outputs": [
    {
     "name": "stdout",
     "output_type": "stream",
     "text": [
      "0.9893686875015664\n",
      "0.9749611852319676\n"
     ]
    }
   ],
   "source": [
    "print(clf.score(train_x, train_y))\n",
    "print(clf.score(valid_x, valid_y)) #validation"
   ]
  },
  {
   "cell_type": "code",
   "execution_count": 9,
   "metadata": {},
   "outputs": [
    {
     "data": {
      "text/plain": [
       "0.9948420709258081"
      ]
     },
     "execution_count": 9,
     "metadata": {},
     "output_type": "execute_result"
    }
   ],
   "source": [
    "roc_auc_score(valid_y, clf.predict_proba(valid_x)[:,1])"
   ]
  },
  {
   "cell_type": "code",
   "execution_count": 10,
   "metadata": {},
   "outputs": [
    {
     "data": {
      "text/plain": [
       "array([[277899,  11721],\n",
       "       [  1600, 240794]])"
      ]
     },
     "execution_count": 10,
     "metadata": {},
     "output_type": "execute_result"
    }
   ],
   "source": [
    "confusion_matrix(valid_y, clf.predict(valid_x), clf.classes_)"
   ]
  },
  {
   "cell_type": "code",
   "execution_count": 11,
   "metadata": {},
   "outputs": [],
   "source": [
    "pickle.dump(clf, open('final_model.sav', 'wb')) #save the model"
   ]
  },
  {
   "cell_type": "code",
   "execution_count": 12,
   "metadata": {},
   "outputs": [],
   "source": [
    "clf = pickle.load(open('final_model.sav', 'rb')) #load the model"
   ]
  },
  {
   "cell_type": "code",
   "execution_count": 13,
   "metadata": {},
   "outputs": [
    {
     "name": "stdout",
     "output_type": "stream",
     "text": [
      "0.9893686875015664\n",
      "[74, 72, 70, 66, 77, 67, 66, 71, 67, 70, 74, 69, 65, 83, 59, 65, 60, 68, 59, 86, 62, 63, 67, 64, 57, 66, 86, 58, 83, 65, 67, 61, 72, 70, 56, 70, 71, 66, 61, 83, 65, 69, 67, 60, 64, 66, 72, 65, 64, 66, 73, 68, 63, 67, 68, 63, 70, 65, 80, 62, 71, 62, 70, 72, 75, 71, 76, 65, 64, 65, 68, 68, 63, 83, 59, 76, 68, 68, 65, 63, 67, 80, 71, 62, 70, 63, 63, 73, 70, 73, 71, 79, 73, 67, 68, 68, 65, 65, 76, 61, 86]\n",
      "0.9749611852319676\n"
     ]
    }
   ],
   "source": [
    "print(clf.score(train_x, train_y))\n",
    "print([estimator.tree_.max_depth for estimator in clf.estimators_])\n",
    "print(clf.score(valid_x, valid_y))"
   ]
  },
  {
   "cell_type": "code",
   "execution_count": null,
   "metadata": {},
   "outputs": [],
   "source": []
  }
 ],
 "metadata": {
  "kernelspec": {
   "display_name": "Python 3",
   "language": "python",
   "name": "python3"
  },
  "language_info": {
   "codemirror_mode": {
    "name": "ipython",
    "version": 3
   },
   "file_extension": ".py",
   "mimetype": "text/x-python",
   "name": "python",
   "nbconvert_exporter": "python",
   "pygments_lexer": "ipython3",
   "version": "3.5.2"
  }
 },
 "nbformat": 4,
 "nbformat_minor": 2
}
